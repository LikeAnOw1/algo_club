{
 "cells": [
  {
   "cell_type": "markdown",
   "metadata": {},
   "source": [
    "a = 222\n",
    "b = 185\n",
    "\n",
    "gcd(a, b)\n",
    "\n",
    "Greatest Common Divisor"
   ]
  },
  {
   "cell_type": "code",
   "execution_count": null,
   "metadata": {},
   "outputs": [],
   "source": [
    "a = 34\n",
    "b = 21"
   ]
  },
  {
   "cell_type": "markdown",
   "metadata": {},
   "source": [
    "Formal definition:\n",
    "\n",
    "$r_{-2} = a$\n",
    "\n",
    "$r_{-1} = b$\n",
    "\n",
    "$r_i = r_{i-2} \\% r_{i-1}$\n"
   ]
  },
  {
   "cell_type": "code",
   "execution_count": 1,
   "metadata": {},
   "outputs": [],
   "source": [
    "# a, b, r0 = (a%b), r1 = (b % r0), r2 = (r0 % r1) ..."
   ]
  },
  {
   "cell_type": "code",
   "execution_count": 2,
   "metadata": {},
   "outputs": [
    {
     "data": {
      "text/plain": [
       "(68, 42, 26, 16, 10, 6, 4, 2, 0)"
      ]
     },
     "execution_count": 2,
     "metadata": {},
     "output_type": "execute_result"
    }
   ],
   "source": [
    "68, 42, 26, 16, 10, 6, 4, 2, 0"
   ]
  },
  {
   "cell_type": "markdown",
   "metadata": {},
   "source": [
    "$ a = b \\cdot q_0 + r_0, 0 \\le r_0 \\lt b $\n",
    "\n",
    "$ b = r_0 \\cdot q_1 + r_1 $\n",
    "\n",
    "$ r_0 = r_1 \\cdot q_2 + r_2 $\n",
    "\n",
    "$ r_1 = r_2 \\cdot q_3 + r_3 $\n",
    "\n",
    "$\\cdots$\n",
    "\n",
    "$ r_{n-4} = r_{n-3} \\cdot q_{n-2} + r_{n-2} $\n",
    "\n",
    "$ r_{n-3} = r_{n-2} \\cdot q_{n-1} + r_{n-1} $\n",
    "\n",
    "$ r_{n-2} = r_{n-1} \\cdot q_n + 0 $"
   ]
  },
  {
   "cell_type": "markdown",
   "metadata": {},
   "source": [
    "### При каких числах a и b процесс продолжается дольше всего?"
   ]
  },
  {
   "cell_type": "code",
   "execution_count": 6,
   "metadata": {},
   "outputs": [
    {
     "data": {
      "text/plain": [
       "2"
      ]
     },
     "execution_count": 6,
     "metadata": {},
     "output_type": "execute_result"
    }
   ],
   "source": [
    "a, b = 68, 42\n",
    "while b:\n",
    "    a, b = b, a % b\n",
    "a"
   ]
  },
  {
   "cell_type": "markdown",
   "metadata": {},
   "source": [
    "22 = z = x * a + y * b\n",
    "\n",
    "x * a + y * b = gcd(a, b)"
   ]
  },
  {
   "cell_type": "code",
   "execution_count": 9,
   "metadata": {},
   "outputs": [],
   "source": [
    "def gcd_extra(a0, b0):\n",
    "    a, b = a0, b0\n",
    "    # a = x11*a0 + y11*b0\n",
    "    # b = x12*a0 + y12*b0\n",
    "    x11, y11 = 1, 0\n",
    "    x12, y12 = 0, 1\n",
    "    # *1\n",
    "    while b:\n",
    "        q = a // b\n",
    "        a1 = b  # a = x21*a0 + y21*b0\n",
    "        x21, y21 = x12, y12\n",
    "\n",
    "        b1 = a - b * q  # a%b x22*a0 + y22*b0 \n",
    "        x22, y22 = (x11 - x12 * q, y11 - y12 * q)\n",
    "        \n",
    "        a, b = a1, b1\n",
    "        x11, y11 = x21, y21\n",
    "        x12, y12 = x22, y22\n",
    "    \n",
    "    return a, x11, y11\n",
    "        \n",
    "        "
   ]
  },
  {
   "cell_type": "code",
   "execution_count": 10,
   "metadata": {},
   "outputs": [
    {
     "data": {
      "text/plain": [
       "(1, 13, -8)"
      ]
     },
     "execution_count": 10,
     "metadata": {},
     "output_type": "execute_result"
    }
   ],
   "source": [
    "gcd_extra(21, 34)"
   ]
  },
  {
   "cell_type": "code",
   "execution_count": 11,
   "metadata": {},
   "outputs": [
    {
     "data": {
      "text/plain": [
       "1"
      ]
     },
     "execution_count": 11,
     "metadata": {},
     "output_type": "execute_result"
    }
   ],
   "source": [
    "21*13 - 8 * 34"
   ]
  },
  {
   "cell_type": "code",
   "execution_count": 12,
   "metadata": {},
   "outputs": [
    {
     "data": {
      "text/plain": [
       "(1, -3, 2)"
      ]
     },
     "execution_count": 12,
     "metadata": {},
     "output_type": "execute_result"
    }
   ],
   "source": [
    "gcd_extra(5, 8)"
   ]
  },
  {
   "cell_type": "code",
   "execution_count": 13,
   "metadata": {},
   "outputs": [
    {
     "data": {
      "text/plain": [
       "(1, 13, -21)"
      ]
     },
     "execution_count": 13,
     "metadata": {},
     "output_type": "execute_result"
    }
   ],
   "source": [
    "gcd_extra(55, 34)"
   ]
  },
  {
   "cell_type": "code",
   "execution_count": null,
   "metadata": {},
   "outputs": [],
   "source": [
    "# %5\n",
    "1 * 1 = 1\n",
    "1 * 2 = 2\n",
    "1 * 3 = 3\n",
    "1 * 4 = 4\n",
    "\n",
    "2 * 1 = 2\n",
    "2 * 2 = 4\n",
    "2 * 3 = 1\n",
    "2 * 4 = 3\n",
    "\n",
    "3 * 2 = 1\n",
    "\n",
    "4 *   = 1"
   ]
  },
  {
   "cell_type": "code",
   "execution_count": 14,
   "metadata": {},
   "outputs": [
    {
     "data": {
      "text/plain": [
       "(1, -1, 1)"
      ]
     },
     "execution_count": 14,
     "metadata": {},
     "output_type": "execute_result"
    }
   ],
   "source": [
    "gcd_extra(4, 5)"
   ]
  },
  {
   "cell_type": "markdown",
   "metadata": {},
   "source": [
    "1 = 5 * 1 + 4 * (-1) \n",
    "1 = 4 * 4"
   ]
  },
  {
   "cell_type": "code",
   "execution_count": null,
   "metadata": {},
   "outputs": [],
   "source": [
    "# %n\n",
    "\n",
    "gcd(a, n) = 1 = a * x + n * y\n",
    "\n",
    "1 = a * x + n * y  # % n\n",
    "1 = a * x "
   ]
  },
  {
   "cell_type": "code",
   "execution_count": 15,
   "metadata": {},
   "outputs": [
    {
     "data": {
      "text/plain": [
       "(1, -3, 14)"
      ]
     },
     "execution_count": 15,
     "metadata": {},
     "output_type": "execute_result"
    }
   ],
   "source": [
    "gcd_extra(79, 17)"
   ]
  },
  {
   "cell_type": "code",
   "execution_count": 16,
   "metadata": {},
   "outputs": [
    {
     "data": {
      "text/plain": [
       "1"
      ]
     },
     "execution_count": 16,
     "metadata": {},
     "output_type": "execute_result"
    }
   ],
   "source": [
    "(17*14) % 79"
   ]
  },
  {
   "cell_type": "code",
   "execution_count": null,
   "metadata": {},
   "outputs": [],
   "source": []
  }
 ],
 "metadata": {
  "kernelspec": {
   "display_name": "Python 3",
   "language": "python",
   "name": "python3"
  },
  "language_info": {
   "codemirror_mode": {
    "name": "ipython",
    "version": 3
   },
   "file_extension": ".py",
   "mimetype": "text/x-python",
   "name": "python",
   "nbconvert_exporter": "python",
   "pygments_lexer": "ipython3",
   "version": "3.6.10"
  }
 },
 "nbformat": 4,
 "nbformat_minor": 4
}
